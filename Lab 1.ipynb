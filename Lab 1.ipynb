{
 "cells": [
  {
   "cell_type": "markdown",
   "metadata": {},
   "source": [
    "# IST 652 Lab #1\n",
    "### Instructions\n",
    "- Complete all 6 questions in this assignment.\n",
    "- You may work with others, <b> but the work you submit must be your own </b>. You can differentiate your work by adding comments or changing the values you use to test your code. However, submitting some else's work as your own is an academic integrity violation and will be raised to academic affairs.\n",
    "- It is always better to attempt a problem as partial credit may be granted.\n",
    "\n",
    "\n",
    "### Submission Guide:\n",
    "- Submit your answers on BlackBoard by Saturday 2019-02-02.\n",
    "- The file must be .ipynb file type.\n",
    "- The name of the file should be <i> ist652_lab1_lastname.ipynb </i> .\n",
    "\n",
    "\n",
    "### Grading [ 6 total points ]\n",
    "For Each Question, the following credit will be awarded:\n",
    "- 0.75 for printing the correct answer to the console.\n",
    "- 0.15 for approaching the problem efficiently.\n",
    "- 0.10 for properly documenting and commenting your code."
   ]
  },
  {
   "cell_type": "markdown",
   "metadata": {},
   "source": [
    "---\n",
    "### Questions"
   ]
  },
  {
   "cell_type": "markdown",
   "metadata": {},
   "source": [
    "#### ( 1 ) Write the following code and return <i>x</i> using the print function. What does it return and why?\n",
    "- x = 11110\n",
    "- x = x+1\n",
    "\n",
    "##### [1 point]"
   ]
  },
  {
   "cell_type": "code",
   "execution_count": 2,
   "metadata": {},
   "outputs": [
    {
     "name": "stdout",
     "output_type": "stream",
     "text": [
      "11111\n"
     ]
    }
   ],
   "source": [
    "# Enter your code here, printing relevant answers to console:\n",
    "x = 11110\n",
    "x = x+1\n",
    "print(x)\n",
    "# the output prints a value of x+1"
   ]
  },
  {
   "cell_type": "markdown",
   "metadata": {},
   "source": [
    "----\n",
    "#### ( 2 ) Assume that we execute the following assignment statements:\n",
    "- width = 17\n",
    "- height = 12.0\n",
    "\n",
    "#### For each of the following expressions, print the value of the expression and its data type.\n",
    "-  width / 2\n",
    "-  width / 2.0\n",
    "-  height * 2\n",
    "-  height / 2.0\n",
    "-  width / height\n",
    "\n",
    "\n",
    "##### [1 point]"
   ]
  },
  {
   "cell_type": "code",
   "execution_count": 11,
   "metadata": {},
   "outputs": [
    {
     "name": "stdout",
     "output_type": "stream",
     "text": [
      "8.5\n",
      "datatype of a:  <class 'float'>\n",
      "8.5\n",
      "datatype of b:  <class 'float'>\n",
      "24.0\n",
      "datatype of c:  <class 'float'>\n",
      "6.0\n",
      "datatype of d:  <class 'float'>\n",
      "1.4166666666666667\n",
      "datatype of e:  <class 'float'>\n"
     ]
    }
   ],
   "source": [
    "# Enter your code here, printing relevant answers to console:\n",
    "width = 17\n",
    "height = 12.0\n",
    "a = width / 2\n",
    "print(a)\n",
    "print(\"datatype of a: \",type(a))\n",
    "b = width / 2.0\n",
    "print(b)\n",
    "print(\"datatype of b: \",type(b))\n",
    "c = height * 2\n",
    "print(c)\n",
    "print(\"datatype of c: \",type(c))\n",
    "d = height / 2.0\n",
    "print(d)\n",
    "print(\"datatype of d: \",type(d))\n",
    "e = width / height\n",
    "print(e)\n",
    "print(\"datatype of e: \",type(e))"
   ]
  },
  {
   "cell_type": "markdown",
   "metadata": {},
   "source": [
    "---\n",
    "#### ( 3 ) Write a sequence of statements which <u><i>prompt</i></u> the user for hours and rate per hour, printing each one, and then to computing gross pay as:\n",
    "- ( hours * rate )\n",
    "\n",
    "#### Your output lines should look something like:\n",
    "- Enter Hours: 35\n",
    "- Enter Rate: 2.75\n",
    "- Pay: 96.25\n",
    "\n",
    "\n",
    "##### [1 point]"
   ]
  },
  {
   "cell_type": "code",
   "execution_count": 32,
   "metadata": {},
   "outputs": [
    {
     "name": "stdout",
     "output_type": "stream",
     "text": [
      "Enter Hours: 35\n",
      "Enter Rate: 2.75\n",
      "Pay:  96.25\n"
     ]
    }
   ],
   "source": [
    "# Enter your code here, printing relevant answers to console:\n",
    "hours =float(input('Enter Hours: '))\n",
    "rate = float(input('Enter Rate: '))\n",
    "Pay = float(hours*rate)\n",
    "print(\"Pay: \",Pay)"
   ]
  },
  {
   "cell_type": "markdown",
   "metadata": {},
   "source": [
    "#### ( 4 ) Rewrite your pay computation <i><u>(#3)</u></i> to give the employee 1.5 times the hourly rate for hours worked above 40 hours.\n",
    "#### For example:\n",
    "- Hours: 45\n",
    "- Rate: 10\n",
    "- Pay: 475.0\n",
    "\n",
    "\n",
    "##### [1 point]"
   ]
  },
  {
   "cell_type": "code",
   "execution_count": 34,
   "metadata": {},
   "outputs": [
    {
     "name": "stdout",
     "output_type": "stream",
     "text": [
      "Enter Hours: 45\n",
      "Enter Rate: 10\n",
      "Pay:  475.0\n"
     ]
    }
   ],
   "source": [
    "# Enter your code here, printing relevant answers to console:\n",
    "def computepay(hours,rate):\n",
    " if hours>40.0:\n",
    "  p = rate * 40.0\n",
    "  p = p+(1.5*rate*(hours-40))\n",
    " else:\n",
    "  p = rate*hours\n",
    " return p\n",
    "hours =float(input('Enter Hours: '))\n",
    "rate = float(input('Enter Rate: '))\n",
    "Pay = float(hours*rate)\n",
    "print(\"Pay: \",computepay(hours,rate))\n"
   ]
  },
  {
   "cell_type": "markdown",
   "metadata": {},
   "source": [
    "---\n",
    "\n",
    "#### ( 5 ) Suppose that there is a list of strings defined, called samples. Define the list so that some strings have only 1 or 2 characters and some strings have more.  Write a loop that prints out all the strings whose length is greater than 2. \n",
    "\n",
    "Nake up a list then write your loop to use the list samples, for example:\n",
    "\n",
    "   <i> samples = [‘at’, ‘bat’, ‘c’, . . . .  ]  </i>\n",
    "\n",
    "Submit your list, your code and an example run.\n",
    "\n",
    "\n",
    "##### [1 point]"
   ]
  },
  {
   "cell_type": "code",
   "execution_count": 25,
   "metadata": {},
   "outputs": [
    {
     "name": "stdout",
     "output_type": "stream",
     "text": [
      "good\n",
      "python\n",
      "RAHUL\n",
      "RATHOD\n"
     ]
    }
   ],
   "source": [
    "# Enter your code here, printing relevant answers to console:\n",
    "\n",
    "list1 = [\"I\",\"am\",\"good\",\"at\",\"python\",\"RAHUL\",\"RATHOD\"]\n",
    "for i in list1:\n",
    "    if len(i)>2:\n",
    "        print(i)"
   ]
  },
  {
   "cell_type": "markdown",
   "metadata": {},
   "source": [
    "#### ( 6 ) Again suppose that there is a list of strings defined, called samples.  Define the list so that some strings have only 1 or 2 characters and some strings have <u>more than 5.</u>  Write a loop that prints out all the strings whose length is greater than 2 and whose length is less than 5. \n",
    "\n",
    "Make up a list then write your loop to use the list samples. For example:\n",
    "\n",
    "<i>samples = [‘at’, ‘book’, ‘c’, ‘dog’, ‘elephant’, . . .  ]</i>\n",
    "\n",
    "Submit your list, your code and an example run.\n",
    "\n",
    "\n",
    "##### [1 point]"
   ]
  },
  {
   "cell_type": "code",
   "execution_count": 23,
   "metadata": {},
   "outputs": [
    {
     "name": "stdout",
     "output_type": "stream",
     "text": [
      "LOVE\n",
      "good\n"
     ]
    }
   ],
   "source": [
    "# Enter your code here, printing relevant answers to console:\n",
    "list2 = ['I','LOVE',\"PYTHON\",\"I\",\"am\",\"good\",\"at\",\"it\",\"RAHULRATHOD\"]\n",
    "for i in list2:\n",
    "    if len(i)>2 and len(i)<5:\n",
    "        print(i)\n"
   ]
  },
  {
   "cell_type": "code",
   "execution_count": null,
   "metadata": {},
   "outputs": [],
   "source": []
  }
 ],
 "metadata": {
  "kernelspec": {
   "display_name": "Python 3",
   "language": "python",
   "name": "python3"
  },
  "language_info": {
   "codemirror_mode": {
    "name": "ipython",
    "version": 3
   },
   "file_extension": ".py",
   "mimetype": "text/x-python",
   "name": "python",
   "nbconvert_exporter": "python",
   "pygments_lexer": "ipython3",
   "version": "3.7.2"
  }
 },
 "nbformat": 4,
 "nbformat_minor": 2
}
